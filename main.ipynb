{
 "cells": [
  {
   "cell_type": "markdown",
   "id": "26b293d7",
   "metadata": {},
   "source": [
    "# Hello world"
   ]
  }
 ],
 "metadata": {
  "kernelspec": {
   "display_name": "venv",
   "language": "python",
   "name": "python3"
  },
  "language_info": {
   "name": "python",
   "version": "3.12.11"
  }
 },
 "nbformat": 4,
 "nbformat_minor": 5
}
